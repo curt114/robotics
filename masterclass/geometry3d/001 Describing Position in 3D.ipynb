{
 "cells": [
  {
   "cell_type": "markdown",
   "metadata": {},
   "source": [
    "<h3>Describing Position in 3D</h3>\n",
    "<h6>In three dimensions, we use a coordinate frame that looks like the picture shown below.  Angles x, y, and z meet 90 degrees of each other.  The point of intersection is referred to as the origin.</h6>\n",
    "<img src=\"screenshots/coordinates3d001.png\" width=300 height=300>\n",
    "<h6>Introduce a point and describe the point with respect to the 3D coordinates system.  Drop a line down from the XY plane and measure the displacement a along the x-axis, the displacement b along the y-axis and the displacement c along the z-axis.  This point is described by a tuple (3-tuple) which is (a, b , c).</h6>\n",
    "<img src=\"screenshots/coordinates3d002.png\" width=500 height=300>\n",
    "<h6>Can describe a vector in terms of three components: component a parallel to the x axis, component b parallel to the y axis and component c parallel to the z axis.  Represent vectors using lower case symbols and a column vector.  Column vector is a stack of numbers one above the other.  The distance a, b, and c.</h6>\n",
    "<img src=\"screenshots/coordinates3d003.png\" width=500 height=300>\n",
    "<h6>Can describe vectors in terms of a set of orthogonal unit vectors.  Each unit vector has a length of one, and they are parallel to the coordinate axes x, y, and z.</h6>\n",
    "<img src=\"screenshots/coordinates3d004.png\" width=500 height=300>\n",
    "<h6>Differences between points and vectors.</h6>\n",
    "<img src=\"screenshots/coordinates3d005.png\" width=500 height=300>"
   ]
  }
 ],
 "metadata": {
  "kernelspec": {
   "display_name": "Python 3",
   "language": "python",
   "name": "python3"
  },
  "language_info": {
   "codemirror_mode": {
    "name": "ipython",
    "version": 3
   },
   "file_extension": ".py",
   "mimetype": "text/x-python",
   "name": "python",
   "nbconvert_exporter": "python",
   "pygments_lexer": "ipython3",
   "version": "3.6.4"
  }
 },
 "nbformat": 4,
 "nbformat_minor": 2
}
