{
 "cells": [
  {
   "cell_type": "markdown",
   "metadata": {},
   "source": [
    "<h3>Right-Handed 3D Coordinate Frame</h3>\n",
    "<h6>Draw the x-axis.  Swing the y-axis until an angle of 90 degrees is created.  Swing the z-axis until it makes an angle 90 degrees to the x and y axis.</h6>\n",
    "<img src=\"screenshots/coordinate_frame3d001.png\" width=300 height=300>\n",
    "<h6>Using your hand, x-axis is parallel to the thumb, y-axis is parallel to the index finger, and z-axis is parallel to the middle finger.</h6>\n",
    "<img src=\"screenshots/coordinate_frame3d002.png\" width=300 height=300>"
   ]
  }
 ],
 "metadata": {
  "kernelspec": {
   "display_name": "Python 3",
   "language": "python",
   "name": "python3"
  },
  "language_info": {
   "codemirror_mode": {
    "name": "ipython",
    "version": 3
   },
   "file_extension": ".py",
   "mimetype": "text/x-python",
   "name": "python",
   "nbconvert_exporter": "python",
   "pygments_lexer": "ipython3",
   "version": "3.6.4"
  }
 },
 "nbformat": 4,
 "nbformat_minor": 2
}
