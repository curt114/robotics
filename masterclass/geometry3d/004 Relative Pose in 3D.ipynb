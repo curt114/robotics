{
 "cells": [
  {
   "cell_type": "markdown",
   "metadata": {},
   "source": [
    "<h3>Relative Pose in 3D</h3>\n",
    "<h6>Two 3-dimensional coordinate frames A and B with the relative pose A ksi B which is the pose of B with respect to A.  Point P can be described in terms of a vector with respect to the origin of coordinate frame A.  Can describe point P with respect to the coordinate frame B.  We can transform a vector from one coordinate frame to another useing the dot operator.</h6>\n",
    "<img src=\"screenshots/relative_pose001.png\" width=600 height=300>\n",
    "<h6>Can define coordinate frame C with respect to coordinate frame B using the symbol B ksi C.  Can compose the two relative transformations B with respect to A and C with respect to B in order to obtain the relative pose of C with respect to A.  This is obtained using the composition operator.  Now an expression can be obtained for the vector with respect to frame C and the vector with respect to frame A.</h6>\n",
    "<img src=\"screenshots/relative_pose002.png\" width=600 height=300>\n",
    "<h6>Rules for Pose Algebra</h6>\n",
    "<img src=\"screenshots/relative_pose003.png\" width=600 height=300>\n",
    "<h6>Example</h6>\n",
    "<img src=\"screenshots/relative_pose004.png\" width=800 height=300>"
   ]
  },
  {
   "cell_type": "code",
   "execution_count": null,
   "metadata": {},
   "outputs": [],
   "source": []
  }
 ],
 "metadata": {
  "kernelspec": {
   "display_name": "Python 3",
   "language": "python",
   "name": "python3"
  },
  "language_info": {
   "codemirror_mode": {
    "name": "ipython",
    "version": 3
   },
   "file_extension": ".py",
   "mimetype": "text/x-python",
   "name": "python",
   "nbconvert_exporter": "python",
   "pygments_lexer": "ipython3",
   "version": "3.6.4"
  }
 },
 "nbformat": 4,
 "nbformat_minor": 2
}
