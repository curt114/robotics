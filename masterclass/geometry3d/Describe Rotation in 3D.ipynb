{
 "cells": [
  {
   "cell_type": "markdown",
   "metadata": {},
   "source": [
    "<h3>Describing Rotation in 3D</h3>\n",
    "<h6>Rotate coordinate frame B with respect to A</h6>\n",
    "<img src=\"screenshots/rotation3d001.png\" height=300 width=500>\n",
    "<h6>Properties of a 3D rotation</h6>\n",
    "<img src=\"screenshots/rotation3d002.png\" height=300 width=500>\n",
    "<h6>Elementary rotation matrices</h6>\n",
    "<img src=\"screenshots/rotation3d003.png\" height=300 width=500>"
   ]
  },
  {
   "cell_type": "code",
   "execution_count": null,
   "metadata": {},
   "outputs": [],
   "source": []
  }
 ],
 "metadata": {
  "kernelspec": {
   "display_name": "Python 3",
   "language": "python",
   "name": "python3"
  },
  "language_info": {
   "codemirror_mode": {
    "name": "ipython",
    "version": 3
   },
   "file_extension": ".py",
   "mimetype": "text/x-python",
   "name": "python",
   "nbconvert_exporter": "python",
   "pygments_lexer": "ipython3",
   "version": "3.6.4"
  }
 },
 "nbformat": 4,
 "nbformat_minor": 2
}
