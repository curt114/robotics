{
 "cells": [
  {
   "cell_type": "markdown",
   "metadata": {},
   "source": [
    "<h3>Pose</h3>\n",
    "<h6>Describes both the translation and the orientation of one coordinate frame with respect to another.</h6>\n",
    "<img src=\"screenshots/pose3d001.png\" width=600 height=300>\n",
    "<h6>Not much different in three dimensions.</h6>\n",
    "<img src=\"screenshots/pose3d002.png\" width=600 height=300>\n",
    "<h6>It is very useful and important to attack coordinate frames to objects.</h6>\n",
    "<img src=\"screenshots/pose3d003.png\" width=600 height=300>"
   ]
  }
 ],
 "metadata": {
  "kernelspec": {
   "display_name": "Python 3",
   "language": "python",
   "name": "python3"
  },
  "language_info": {
   "codemirror_mode": {
    "name": "ipython",
    "version": 3
   },
   "file_extension": ".py",
   "mimetype": "text/x-python",
   "name": "python",
   "nbconvert_exporter": "python",
   "pygments_lexer": "ipython3",
   "version": "3.6.4"
  }
 },
 "nbformat": 4,
 "nbformat_minor": 2
}
