{
 "cells": [
  {
   "cell_type": "markdown",
   "metadata": {},
   "source": [
    "<h3>World Coordinate Frame</h3>\n",
    "<ul>\n",
    "    <li>Common in robotics to have one reference frame that all other reference frames are described with respect to.</li>\n",
    "    <img src=\"screenshots/world_coordinate_frame001.png\" width=300 height=300>\n",
    "    <li>Points of interest can be represented by vectors with respect to the coordinate frame.</li>\n",
    "    <img src=\"screenshots/world_coordinate_frame002.png\" width=300 height=300>\n",
    "    <li>Imagine the car has moved.  Now we have to redo the points again in terms of vectors with respect to the origin of the world coordinate frame.</li>\n",
    "    <img src=\"screenshots/world_coordinate_frame003.png\" width=300 height=300>\n",
    "    <li>There is a better way.  We can create a new coordinate frame and attach it to the car.</li>\n",
    "    <img src=\"screenshots/world_coordinate_frame004.png\" width=300 height=300>\n",
    "    <li>With the new reference frame, describe all points of interests in terms of vectors.</li>\n",
    "    <img src=\"screenshots/world_coordinate_frame005.png\" width=300 height=300>\n",
    "    <li>Now if the car is moved, the vectors have changed with respect to the world, but they have not changed with respect to the cars coordinate frame.</li>\n",
    "    <img src=\"screenshots/world_coordinate_frame006.png\" width=300 height=300>\n",
    "</ul>\n",
    "<h3>Pose</h3>\n",
    "<ul>\n",
    "    <li>Let us simply things by introducting a pose.</li>\n",
    "    <li>The fat arrow represents a pose, and this is the pose from the world coordinate frame to the car's coordinate frame.</li>\n",
    "    <img src=\"screenshots/world_coordinate_frame007.png\" width=300 height=300>\n",
    "    <li>Let us look at a single point d in the reference frame C.</li>\n",
    "    <img src=\"screenshots/world_coordinate_frame008.png\" width=300 height=300>\n",
    "    <li>Create a vector from frame C to this point d</li>\n",
    "    <img src=\"screenshots/world_coordinate_frame009.png\" width=500 height=600>\n",
    "    <li>If i want to know vector p with respect to point d, we cannot add a pose and a vector.</li>\n",
    "    <li>Poses and vectors are two different mathematical objects.</li>\n",
    "    <img src=\"screenshots/world_coordinate_frame010.png\" width=500 height=600>\n",
    "</ul>\n",
    "<h3>Dot</h3>\n",
    "<ul>\n",
    "    <li>Introduce the dot operator.</li>\n",
    "    <li>A pose operates on a vector in order to transform it to a different coordinate frame.</li>\n",
    "    <li>The dot product transforms this vector which describes point d with respect to the coordinate frame C to a vector that describes the point d with respect to the coordinate frame W. </li>\n",
    "    <li>It performs a transformation between coordinate frames.</li>\n",
    "    <img src=\"screenshots/world_coordinate_frame011.png\" width=500 height=600>\n",
    "    <img src=\"screenshots/pose004.png\" width=500 height=600>\n",
    "    <img src=\"screenshots/pose005.png\" width=500 height=600>\n",
    "</ul>"
   ]
  }
 ],
 "metadata": {
  "kernelspec": {
   "display_name": "Python 3",
   "language": "python",
   "name": "python3"
  },
  "language_info": {
   "codemirror_mode": {
    "name": "ipython",
    "version": 3
   },
   "file_extension": ".py",
   "mimetype": "text/x-python",
   "name": "python",
   "nbconvert_exporter": "python",
   "pygments_lexer": "ipython3",
   "version": "3.6.4"
  }
 },
 "nbformat": 4,
 "nbformat_minor": 2
}
