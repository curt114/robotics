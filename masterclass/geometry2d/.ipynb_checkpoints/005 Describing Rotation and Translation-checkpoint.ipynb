{
 "cells": [
  {
   "cell_type": "markdown",
   "metadata": {},
   "source": [
    "<h3>Translations and Rotation</h3>\n",
    "<img src=\"screenshots/translation001.png\" height=300 width=300>\n",
    "<h6>Describe the point P by a vector with respect to frame B and that vector can be described in terms of its components x<sub>B</sub> and y<sub>B</sub></h6>\n",
    "<img src=\"screenshots/translation002.png\" height=300 width=300>\n",
    "<h6>Rotation vector B<sub>p</sub> into a new coordinate frame V.  Coordinate frame has axes which are parallel to coordinate frame A.</h6>\n",
    "<img src=\"screenshots/translation003.png\" height=300 width=500>\n",
    "<h6>Describe the origin of coordinate frame V with respect to coordinate frame A.  This can be accomplished by using a vector.</h6>\n",
    "<img src=\"screenshots/translation004.png\" height=300 width=500>\n",
    "<h6>Can only add vectors in the same (or parallel) reference frames.</h6>\n",
    "<img src=\"screenshots/translation005.png\" height=300 width=500>\n",
    "<h6>Expand the vectors and matrix, and write them in terms of their elements.</h6>\n",
    "<img src=\"screenshots/translation006.png\" height=300 width=500>\n",
    "<h6>The tilde above the p indicates that it is a homogeneous vector.  It has got three elements not two.</h6>\n",
    "<img src=\"screenshots/translation007.png\" height=300 width=500>\n",
    "<h6>The point is described with respect to coordinate frame A by a homogeneous vector which we can obtain from the homogeneous vector of the point with respect to coordinate frame B multiplied by this matrix.  The elements of the matrix include the rotation matrix, which is the function of the orientation &theta;, and the translations between the origin of coordinate frame A and coordinate frame B.</h6>\n",
    "<img src=\"screenshots/translation008.png\" height=300 width=500>\n",
    "<h6>The homogeneous vector has got three elements in it.</h6>\n",
    "<img src=\"screenshots/translation009.png\" height=300 width=500>\n",
    "<h6>Pose is really a 3x3 matrix.</h6>\n",
    "<img src=\"screenshots/translation010.png\" height=300 width=500\n"
   ]
  },
  {
   "cell_type": "code",
   "execution_count": null,
   "metadata": {},
   "outputs": [],
   "source": []
  }
 ],
 "metadata": {
  "kernelspec": {
   "display_name": "Python 3",
   "language": "python",
   "name": "python3"
  },
  "language_info": {
   "codemirror_mode": {
    "name": "ipython",
    "version": 3
   },
   "file_extension": ".py",
   "mimetype": "text/x-python",
   "name": "python",
   "nbconvert_exporter": "python",
   "pygments_lexer": "ipython3",
   "version": "3.6.4"
  }
 },
 "nbformat": 4,
 "nbformat_minor": 2
}
