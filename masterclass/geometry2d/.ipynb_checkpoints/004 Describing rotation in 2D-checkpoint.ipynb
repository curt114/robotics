{
 "cells": [
  {
   "cell_type": "markdown",
   "metadata": {},
   "source": [
    "<h3>Math For Rotation Matrix</h3>\n",
    "<img src=\"screenshots/rotation001.png\">\n",
    "<h6>Since the origin is the same for A<sub>p</sub> and B<sub>p</sub>, their components are the same.</h6>\n",
    "<img src=\"screenshots/rotation002.png\">\n",
    "<h6>Matrix Form</h6>\n",
    "<img src=\"screenshots/rotation003.png\">\n",
    "<img src=\"screenshots/rotation004.png\">\n",
    "<img src=\"screenshots/rotation005.png\">\n",
    "<img src=\"screenshots/rotation006.png\">"
   ]
  },
  {
   "cell_type": "code",
   "execution_count": 5,
   "metadata": {},
   "outputs": [
    {
     "data": {
      "text/latex": [
       "$\\displaystyle \\left[\\begin{matrix}0.0 & -1.0 & 0\\\\1.0 & 0.0 & 0\\\\0 & 0 & 1\\end{matrix}\\right]$"
      ],
      "text/plain": [
       "Matrix([\n",
       "[0.0, -1.0, 0],\n",
       "[1.0,  0.0, 0],\n",
       "[  0,    0, 1]])"
      ]
     },
     "execution_count": 5,
     "metadata": {},
     "output_type": "execute_result"
    }
   ],
   "source": [
    "# Imports\n",
    "from sympy.vector import CoordSys3D\n",
    "import sympy as sp\n",
    "import numpy as np\n",
    "\n",
    "# Create a World Coordinate Frame W\n",
    "W = CoordSys3D(name='W')\n",
    "\n",
    "# Vector v1 with respect to the world coordinate frame.\n",
    "v1 = 0 * W.i + 0 * W.j + 0 * W.k\n",
    "\n",
    "# Create a rotation matrix to rotate vector_one by the variable degrees\n",
    "degrees = 90\n",
    "\n",
    "# Rotation Matrix\n",
    "R = sp.Matrix([[round(np.cos(np.deg2rad(degrees)), 3), round(-np.sin(np.deg2rad(degrees)), 3), 0],\n",
    "               [round(np.sin(np.deg2rad(degrees)), 3), round(np.cos(np.deg2rad(degrees)), 3), 0],\n",
    "               [0, 0, 1]])\n",
    "\n",
    "A = CoordSys3D(name='R', parent=W, location=v1, rotation_matrix=R)\n",
    "\n",
    "R\n"
   ]
  },
  {
   "cell_type": "code",
   "execution_count": 52,
   "metadata": {},
   "outputs": [
    {
     "data": {
      "text/latex": [
       "$\\displaystyle 0$"
      ],
      "text/plain": [
       "0"
      ]
     },
     "execution_count": 52,
     "metadata": {},
     "output_type": "execute_result"
    }
   ],
   "source": [
    "# Columns in a rotation matrix are orthogonal.\n",
    "c1 = R[:, 0]\n",
    "c2 = R[:, 1]\n",
    "\n",
    "# If the dot product of both columns is equal to zero, the columns are orthogonal.\n",
    "c1.dot(c2)"
   ]
  },
  {
   "cell_type": "code",
   "execution_count": 53,
   "metadata": {},
   "outputs": [
    {
     "data": {
      "text/plain": [
       "1.0"
      ]
     },
     "execution_count": 53,
     "metadata": {},
     "output_type": "execute_result"
    }
   ],
   "source": [
    "# The determinant of the rotation matrix is equal to positive 1\n",
    "R_determinate = round(R.det(), 3)\n",
    "R_determinate"
   ]
  },
  {
   "cell_type": "code",
   "execution_count": 55,
   "metadata": {},
   "outputs": [
    {
     "data": {
      "text/latex": [
       "$\\displaystyle \\left[\\begin{matrix}0.0 & 1.0 & 0.0\\\\-1.0 & 0.0 & 0.0\\\\0.0 & 0.0 & 1.0\\end{matrix}\\right]$"
      ],
      "text/plain": [
       "Matrix([\n",
       "[ 0.0, 1.0, 0.0],\n",
       "[-1.0, 0.0, 0.0],\n",
       "[ 0.0, 0.0, 1.0]])"
      ]
     },
     "execution_count": 55,
     "metadata": {},
     "output_type": "execute_result"
    }
   ],
   "source": [
    "# Inverse of the rotation matrix.\n",
    "R_inverse = R.inv()\n",
    "\n",
    "# Round each element in the matrix by 3 decimal places.\n",
    "for i in range(len(R_inverse)):\n",
    "    R_inverse[i] = round(R_inverse[i], 3)\n",
    "R_inverse"
   ]
  },
  {
   "cell_type": "code",
   "execution_count": 56,
   "metadata": {},
   "outputs": [
    {
     "data": {
      "text/latex": [
       "$\\displaystyle \\left[\\begin{matrix}0.0 & 1.0 & 0\\\\-1.0 & 0.0 & 0\\\\0 & 0 & 1\\end{matrix}\\right]$"
      ],
      "text/plain": [
       "Matrix([\n",
       "[ 0.0, 1.0, 0],\n",
       "[-1.0, 0.0, 0],\n",
       "[   0,   0, 1]])"
      ]
     },
     "execution_count": 56,
     "metadata": {},
     "output_type": "execute_result"
    }
   ],
   "source": [
    "# Transpose of the rotation matrix\n",
    "R_transpose = R.transpose()\n",
    "R_transpose"
   ]
  },
  {
   "cell_type": "code",
   "execution_count": 58,
   "metadata": {},
   "outputs": [
    {
     "data": {
      "text/plain": [
       "True"
      ]
     },
     "execution_count": 58,
     "metadata": {},
     "output_type": "execute_result"
    }
   ],
   "source": [
    "# Inverse of a rotation matrix is the same as its transpose.\n",
    "R_inverse == R_transpose"
   ]
  },
  {
   "cell_type": "code",
   "execution_count": 59,
   "metadata": {},
   "outputs": [
    {
     "data": {
      "text/latex": [
       "$\\displaystyle \\left[\\begin{matrix}1\\\\2\\\\0\\end{matrix}\\right]$"
      ],
      "text/plain": [
       "Matrix([\n",
       "[1],\n",
       "[2],\n",
       "[0]])"
      ]
     },
     "execution_count": 59,
     "metadata": {},
     "output_type": "execute_result"
    }
   ],
   "source": [
    "# Create a vector in the world coordinate frame.\n",
    "vector_a = 1 * W.i + 2 * W.j\n",
    "vector_a_matrix = vector_a.to_matrix(W)\n",
    "vector_a_matrix"
   ]
  },
  {
   "cell_type": "code",
   "execution_count": 60,
   "metadata": {},
   "outputs": [
    {
     "data": {
      "text/latex": [
       "$\\displaystyle \\left[\\begin{matrix}2.0\\\\-1.0\\\\0\\end{matrix}\\right]$"
      ],
      "text/plain": [
       "Matrix([\n",
       "[ 2.0],\n",
       "[-1.0],\n",
       "[   0]])"
      ]
     },
     "execution_count": 60,
     "metadata": {},
     "output_type": "execute_result"
    }
   ],
   "source": [
    "# Obtain the vector points in the reference coordinate frame.\n",
    "vector_b_matrix = R_inverse * vector_a_matrix\n",
    "vector_b_matrix"
   ]
  }
 ],
 "metadata": {
  "kernelspec": {
   "display_name": "Python 3",
   "language": "python",
   "name": "python3"
  },
  "language_info": {
   "codemirror_mode": {
    "name": "ipython",
    "version": 3
   },
   "file_extension": ".py",
   "mimetype": "text/x-python",
   "name": "python",
   "nbconvert_exporter": "python",
   "pygments_lexer": "ipython3",
   "version": "3.6.4"
  }
 },
 "nbformat": 4,
 "nbformat_minor": 2
}
