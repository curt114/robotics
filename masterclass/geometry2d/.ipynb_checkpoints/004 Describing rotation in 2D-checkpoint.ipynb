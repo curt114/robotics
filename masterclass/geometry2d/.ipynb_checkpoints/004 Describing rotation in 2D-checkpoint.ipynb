{
 "cells": [
  {
   "cell_type": "markdown",
   "metadata": {},
   "source": [
    "<h3>Math For Rotation Matrix</h3>\n",
    "<img src=\"screenshots/rotation001.png\">\n",
    "<h6>Since the origin is the same for A<sub>p</sub> and B<sub>p</sub>, their components are the same.</h6>\n",
    "<img src=\"screenshots/rotation002.png\">\n",
    "<h6>Matrix Form</h6>\n",
    "<img src=\"screenshots/rotation003.png\">\n",
    "<img src=\"screenshots/rotation004.png\">\n",
    "<img src=\"screenshots/rotation005.png\">\n",
    "<img src=\"screenshots/rotation006.png\">"
   ]
  },
  {
   "cell_type": "code",
   "execution_count": 40,
   "metadata": {},
   "outputs": [],
   "source": [
    "# Imports - Python modules to make the program run.\n",
    "from sympy.vector import CoordSys3D\n",
    "import matplotlib.pyplot as plt\n",
    "import sympy as sp\n",
    "import numpy as np"
   ]
  },
  {
   "cell_type": "code",
   "execution_count": 54,
   "metadata": {},
   "outputs": [
    {
     "data": {
      "text/latex": [
       "$\\displaystyle \\left[\\begin{matrix}1.0 & 0.0 & 0\\\\0.0 & 1.0 & 0\\\\0 & 0 & 1\\end{matrix}\\right]$"
      ],
      "text/plain": [
       "Matrix([\n",
       "[1.0, 0.0, 0],\n",
       "[0.0, 1.0, 0],\n",
       "[  0,   0, 1]])"
      ]
     },
     "execution_count": 54,
     "metadata": {},
     "output_type": "execute_result"
    }
   ],
   "source": [
    "# Create the World Coordinate Frame.  Origin is (0,0) and the orientation is 0.\n",
    "\n",
    "# Initialize variables\n",
    "origin_x = 0\n",
    "origin_y = 0\n",
    "world_frame_rotation = 0\n",
    "\n",
    "# Create a World Coordinate Frame W\n",
    "W = CoordSys3D(name='W')\n",
    "\n",
    "# Rotation Matrix\n",
    "world_coordinate_frame = sp.Matrix([\n",
    "    [round(np.cos(np.deg2rad(world_frame_rotation)), 3), round(-np.sin(np.deg2rad(world_frame_rotation)), 3), origin_x],\n",
    "    [round(np.sin(np.deg2rad(world_frame_rotation)), 3), round(np.cos(np.deg2rad(world_frame_rotation)), 3), origin_y],\n",
    "    [0, 0, 1]\n",
    "])\n",
    "\n",
    "world_coordinate_frame\n"
   ]
  },
  {
   "cell_type": "code",
   "execution_count": 55,
   "metadata": {},
   "outputs": [
    {
     "data": {
      "image/png": "[encoded data removed]",
      "text/plain": [
       "<Figure size 432x288 with 1 Axes>"
      ]
     },
     "metadata": {
      "needs_background": "light"
     },
     "output_type": "display_data"
    }
   ],
   "source": [
    "# Plot the unit vectors of the coordinate World Coordinate Frame\n",
    "\n",
    "# Initialize the figure and axes\n",
    "fig, ax = plt.subplots()\n",
    "\n",
    "# Adds grid lines to the graph.\n",
    "plt.grid()\n",
    "\n",
    "# Same scaling from data to plot units for x and y\n",
    "ax.set_aspect('equal')\n",
    "\n",
    "# X and Y axis limits \n",
    "plt.xlim(-2,2)\n",
    "plt.ylim(-2,2)\n",
    "\n",
    "world_coordinate_frame_x_translation = float(world_coordinate_frame[0,2])\n",
    "world_coordinate_frame_y_translation = float(world_coordinate_frame[1,2])\n",
    "world_coordinate_frame_x_axis_i_hat = float(world_coordinate_frame[0,0])\n",
    "world_coordinate_frame_x_axis_j_hat = float(world_coordinate_frame[1,0])\n",
    "world_coordinate_frame_y_axis_i_hat = float(world_coordinate_frame[0,1])\n",
    "world_coordinate_frame_y_axis_j_hat = float(world_coordinate_frame[1,1])\n",
    "\n",
    "# Plot World Coordinate Frame x-axis.\n",
    "world_frame_x_axis = ax.quiver(\n",
    "    world_coordinate_frame_x_translation, world_coordinate_frame_y_translation, \n",
    "    world_coordinate_frame_x_axis_i_hat, world_coordinate_frame_x_axis_j_hat, \n",
    "    units='xy', scale=1, color='green')\n",
    "\n",
    "# Plot World Coordinate Frame y-axis.\n",
    "world_frame_y_axis = ax.quiver(\n",
    "    world_coordinate_frame_x_translation, world_coordinate_frame_y_translation, \n",
    "    world_coordinate_frame_y_axis_i_hat, world_coordinate_frame_y_axis_j_hat, \n",
    "    units='xy', scale=1, color='green')\n"
   ]
  },
  {
   "cell_type": "code",
   "execution_count": 56,
   "metadata": {},
   "outputs": [
    {
     "data": {
      "text/latex": [
       "$\\displaystyle \\left[\\begin{matrix}0.866 & -0.5 & 0\\\\0.5 & 0.866 & 0\\\\0 & 0 & 1\\end{matrix}\\right]$"
      ],
      "text/plain": [
       "Matrix([\n",
       "[0.866,  -0.5, 0],\n",
       "[  0.5, 0.866, 0],\n",
       "[    0,     0, 1]])"
      ]
     },
     "execution_count": 56,
     "metadata": {},
     "output_type": "execute_result"
    }
   ],
   "source": [
    "# Create a reference coordinate frame with respect to the world coordinate frame.\n",
    "# Enter the orientation of reference frame with respect to the world coordinate frame in degrees.\n",
    "\n",
    "reference_orientation = 30\n",
    "\n",
    "# Vector v1 with respect to the world coordinate frame.\n",
    "v1 = 0 * W.i + 0 * W.j + 0 * W.k\n",
    "\n",
    "# Rotation Matrix\n",
    "reference_coordinate_frame = sp.Matrix([\n",
    "    [round(np.cos(np.deg2rad(reference_orientation)), 3), round(-np.sin(np.deg2rad(reference_orientation)), 3), 0],\n",
    "    [round(np.sin(np.deg2rad(reference_orientation)), 3), round(np.cos(np.deg2rad(reference_orientation)), 3), 0],\n",
    "    [0, 0, 1]\n",
    "])\n",
    "\n",
    "pose_r_with_respect_to_w = CoordSys3D(name='R', parent=W, location=v1, rotation_matrix=reference_coordinate_frame)\n",
    "\n",
    "reference_coordinate_frame"
   ]
  },
  {
   "cell_type": "code",
   "execution_count": 57,
   "metadata": {},
   "outputs": [
    {
     "data": {
      "image/png": "[encoded data removed]",
      "text/plain": [
       "<Figure size 432x288 with 1 Axes>"
      ]
     },
     "metadata": {
      "needs_background": "light"
     },
     "output_type": "display_data"
    }
   ],
   "source": [
    "# Plot the reference frame with respect to the world coordinate frame. Reference frame in BLUE.  World frame in GREEN.\n",
    "\n",
    "# Initialize the figure and axes\n",
    "fig, ax = plt.subplots()\n",
    "\n",
    "# Adds grid lines to the graph.\n",
    "plt.grid()\n",
    "\n",
    "# Same scaling from data to plot units for x and y\n",
    "ax.set_aspect('equal')\n",
    "\n",
    "# X and Y axis limits \n",
    "plt.xlim(-2,2)\n",
    "plt.ylim(-2,2)\n",
    "\n",
    "# World Frame Elements\n",
    "world_coordinate_frame_x_translation = float(world_coordinate_frame[0,2])\n",
    "world_coordinate_frame_y_translation = float(world_coordinate_frame[1,2])\n",
    "world_coordinate_frame_x_axis_i_hat = float(world_coordinate_frame[0,0])\n",
    "world_coordinate_frame_x_axis_j_hat = float(world_coordinate_frame[1,0])\n",
    "world_coordinate_frame_y_axis_i_hat = float(world_coordinate_frame[0,1])\n",
    "world_coordinate_frame_y_axis_j_hat = float(world_coordinate_frame[1,1])\n",
    "\n",
    "# Reference Frame Elements.\n",
    "reference_coordinate_frame_x_translation = float(reference_coordinate_frame[0,2])\n",
    "reference_coordinate_frame_y_translation = float(reference_coordinate_frame[1,2])\n",
    "reference_coordinate_frame_x_axis_i_hat = float(reference_coordinate_frame[0,0])\n",
    "reference_coordinate_frame_x_axis_j_hat = float(reference_coordinate_frame[1,0])\n",
    "reference_coordinate_frame_y_axis_i_hat = float(reference_coordinate_frame[0,1])\n",
    "reference_coordinate_frame_y_axis_j_hat = float(reference_coordinate_frame[1,1])\n",
    "\n",
    "# Plot World Coordinate Frame x-axis.\n",
    "world_frame_x_axis = ax.quiver(\n",
    "    world_coordinate_frame_x_translation, world_coordinate_frame_y_translation, \n",
    "    world_coordinate_frame_x_axis_i_hat, world_coordinate_frame_x_axis_j_hat, \n",
    "    units='xy', scale=1, color='green')\n",
    "\n",
    "# Plot World Coordinate Frame y-axis.\n",
    "world_frame_y_axis = ax.quiver(\n",
    "    world_coordinate_frame_x_translation, world_coordinate_frame_y_translation, \n",
    "    world_coordinate_frame_y_axis_i_hat, world_coordinate_frame_y_axis_j_hat, \n",
    "    units='xy', scale=1, color='green')\n",
    "\n",
    "# Plot Reference Coordinate Frame x-axis.\n",
    "reference_frame_x_axis = ax.quiver(\n",
    "    reference_coordinate_frame_x_translation, reference_coordinate_frame_y_translation, \n",
    "    reference_coordinate_frame_x_axis_i_hat, reference_coordinate_frame_x_axis_j_hat, \n",
    "    units='xy', scale=1, color='blue')\n",
    "\n",
    "# Plot Reference Coordinate Frame y-axis.\n",
    "reference_frame_y_axis = ax.quiver(\n",
    "    reference_coordinate_frame_x_translation, reference_coordinate_frame_y_translation, \n",
    "    reference_coordinate_frame_y_axis_i_hat, reference_coordinate_frame_y_axis_j_hat, \n",
    "    units='xy', scale=1, color='blue')"
   ]
  },
  {
   "cell_type": "code",
   "execution_count": 58,
   "metadata": {},
   "outputs": [
    {
     "data": {
      "text/latex": [
       "$\\displaystyle 0$"
      ],
      "text/plain": [
       "0"
      ]
     },
     "execution_count": 58,
     "metadata": {},
     "output_type": "execute_result"
    }
   ],
   "source": [
    "# Columns in a rotation matrix are orthogonal. Dot product equal to 0 means the columns are orthogonal.\n",
    "\n",
    "column1 = reference_coordinate_frame[:, 0]\n",
    "column2 = reference_coordinate_frame[:, 1]\n",
    "\n",
    "# If the dot product of both columns is equal to zero, the columns are orthogonal.\n",
    "column1.dot(column2)"
   ]
  },
  {
   "cell_type": "code",
   "execution_count": 59,
   "metadata": {},
   "outputs": [
    {
     "data": {
      "text/plain": [
       "1.0"
      ]
     },
     "execution_count": 59,
     "metadata": {},
     "output_type": "execute_result"
    }
   ],
   "source": [
    "# The determinant of the rotation matrix is equal to positive 1\n",
    "reference_coordinate_frame_determinate = round(reference_coordinate_frame.det(), 1)\n",
    "reference_coordinate_frame_determinate"
   ]
  },
  {
   "cell_type": "code",
   "execution_count": 60,
   "metadata": {},
   "outputs": [
    {
     "data": {
      "text/latex": [
       "$\\displaystyle \\left[\\begin{matrix}0.87 & 0.5 & 0.0\\\\-0.5 & 0.87 & 0.0\\\\0.0 & 0.0 & 1.0\\end{matrix}\\right]$"
      ],
      "text/plain": [
       "Matrix([\n",
       "[0.87,  0.5, 0.0],\n",
       "[-0.5, 0.87, 0.0],\n",
       "[ 0.0,  0.0, 1.0]])"
      ]
     },
     "execution_count": 60,
     "metadata": {},
     "output_type": "execute_result"
    }
   ],
   "source": [
    "# Inverse of the rotation matrix.\n",
    "reference_coordinate_frame_inverse = reference_coordinate_frame.inv()\n",
    "\n",
    "# Round each element in the matrix by 3 decimal places.\n",
    "for i in range(len(reference_coordinate_frame_inverse)):\n",
    "    reference_coordinate_frame_inverse[i] = round(reference_coordinate_frame_inverse[i], 2)\n",
    "reference_coordinate_frame_inverse"
   ]
  },
  {
   "cell_type": "code",
   "execution_count": 61,
   "metadata": {},
   "outputs": [
    {
     "data": {
      "text/latex": [
       "$\\displaystyle \\left[\\begin{matrix}0.87 & 0.5 & 0.0\\\\-0.5 & 0.87 & 0.0\\\\0.0 & 0.0 & 1.0\\end{matrix}\\right]$"
      ],
      "text/plain": [
       "Matrix([\n",
       "[0.87,  0.5, 0.0],\n",
       "[-0.5, 0.87, 0.0],\n",
       "[ 0.0,  0.0, 1.0]])"
      ]
     },
     "execution_count": 61,
     "metadata": {},
     "output_type": "execute_result"
    }
   ],
   "source": [
    "# Transpose of the rotation matrix\n",
    "reference_coordinate_frame_transpose = reference_coordinate_frame.transpose()\n",
    "\n",
    "# Round each element in the matrix by 3 decimal places.\n",
    "for i in range(len(reference_coordinate_frame_transpose)):\n",
    "    reference_coordinate_frame_transpose[i] = round(reference_coordinate_frame_transpose[i], 2)\n",
    "reference_coordinate_frame_transpose"
   ]
  },
  {
   "cell_type": "code",
   "execution_count": 62,
   "metadata": {},
   "outputs": [
    {
     "data": {
      "text/plain": [
       "True"
      ]
     },
     "execution_count": 62,
     "metadata": {},
     "output_type": "execute_result"
    }
   ],
   "source": [
    "# Inverse of a rotation matrix is the same as its transpose.\n",
    "reference_coordinate_frame_inverse == reference_coordinate_frame_transpose"
   ]
  },
  {
   "cell_type": "code",
   "execution_count": 63,
   "metadata": {},
   "outputs": [
    {
     "data": {
      "text/latex": [
       "$\\displaystyle \\left[\\begin{matrix}1\\\\2\\\\0\\end{matrix}\\right]$"
      ],
      "text/plain": [
       "Matrix([\n",
       "[1],\n",
       "[2],\n",
       "[0]])"
      ]
     },
     "execution_count": 63,
     "metadata": {},
     "output_type": "execute_result"
    }
   ],
   "source": [
    "# Create a vector in the world coordinate frame.\n",
    "vector_a = 1 * W.i + 2 * W.j + 0 * W.k\n",
    "vector_a_matrix = vector_a.to_matrix(W)\n",
    "vector_a_matrix"
   ]
  },
  {
   "cell_type": "code",
   "execution_count": 64,
   "metadata": {},
   "outputs": [
    {
     "data": {
      "image/png": "[encoded data removed]",
      "text/plain": [
       "<Figure size 432x288 with 1 Axes>"
      ]
     },
     "metadata": {
      "needs_background": "light"
     },
     "output_type": "display_data"
    }
   ],
   "source": [
    "#  Plot vector a 1i + 2j (COLOR PURPLE) in the world coordinate frame (COLOR GREEN).\n",
    "\n",
    "# Initialize the figure and axes\n",
    "fig, ax = plt.subplots()\n",
    "\n",
    "# Adds grid lines to the graph.\n",
    "plt.grid()\n",
    "\n",
    "# Same scaling from data to plot units for x and y\n",
    "ax.set_aspect('equal')\n",
    "\n",
    "# X and Y axis limits \n",
    "plt.xlim(-3,3)\n",
    "plt.ylim(-3,3)\n",
    "\n",
    "world_coordinate_frame_x_translation = float(world_coordinate_frame[0,2])\n",
    "world_coordinate_frame_y_translation = float(world_coordinate_frame[1,2])\n",
    "world_coordinate_frame_x_axis_i_hat = float(world_coordinate_frame[0,0])\n",
    "world_coordinate_frame_x_axis_j_hat = float(world_coordinate_frame[1,0])\n",
    "world_coordinate_frame_y_axis_i_hat = float(world_coordinate_frame[0,1])\n",
    "world_coordinate_frame_y_axis_j_hat = float(world_coordinate_frame[1,1])\n",
    "vector_a_i_component = float(vector_a_matrix[0])\n",
    "vector_a_j_component = float(vector_a_matrix[1])\n",
    "\n",
    "# Plot World Coordinate Frame x-axis.\n",
    "world_frame_x_axis = ax.quiver(\n",
    "    world_coordinate_frame_x_translation, world_coordinate_frame_y_translation, \n",
    "    world_coordinate_frame_x_axis_i_hat, world_coordinate_frame_x_axis_j_hat, \n",
    "    units='xy', scale=1, color='green')\n",
    "\n",
    "# Plot World Coordinate Frame y-axis.\n",
    "world_frame_y_axis = ax.quiver(\n",
    "    world_coordinate_frame_x_translation, world_coordinate_frame_y_translation, \n",
    "    world_coordinate_frame_y_axis_i_hat, world_coordinate_frame_y_axis_j_hat, \n",
    "    units='xy', scale=1, color='green')\n",
    "\n",
    "# Plot vector a\n",
    "world_frame_y_axis = ax.quiver(\n",
    "    world_coordinate_frame_x_translation, world_coordinate_frame_y_translation, \n",
    "    vector_a_i_component, vector_a_j_component, \n",
    "    units='xy', scale=1, color='purple')"
   ]
  },
  {
   "cell_type": "code",
   "execution_count": 65,
   "metadata": {},
   "outputs": [
    {
     "data": {
      "text/latex": [
       "$\\displaystyle \\left[\\begin{matrix}1.87\\\\1.24\\\\0\\end{matrix}\\right]$"
      ],
      "text/plain": [
       "Matrix([\n",
       "[1.87],\n",
       "[1.24],\n",
       "[   0]])"
      ]
     },
     "execution_count": 65,
     "metadata": {},
     "output_type": "execute_result"
    }
   ],
   "source": [
    "# Obtain the vector points in the reference coordinate frame.\n",
    "vector_b_matrix = reference_coordinate_frame_inverse * vector_a_matrix\n",
    "vector_b_matrix"
   ]
  },
  {
   "cell_type": "code",
   "execution_count": 53,
   "metadata": {},
   "outputs": [
    {
     "data": {
      "image/png": "[encoded data removed]",
      "text/plain": [
       "<Figure size 432x288 with 1 Axes>"
      ]
     },
     "metadata": {
      "needs_background": "light"
     },
     "output_type": "display_data"
    }
   ],
   "source": [
    "# Plot vector a (COLOR PURPLE) in the reference coordinate frame (COLOR BLUE).\n",
    "\n",
    "# Initialize the figure and axes\n",
    "fig, ax = plt.subplots()\n",
    "\n",
    "# Adds grid lines to the graph.\n",
    "plt.grid()\n",
    "\n",
    "# Same scaling from data to plot units for x and y\n",
    "ax.set_aspect('equal')\n",
    "\n",
    "# X and Y axis limits \n",
    "plt.xlim(-3,3)\n",
    "plt.ylim(-3,3)\n",
    "\n",
    "# Reference Frame Elements.\n",
    "reference_coordinate_frame_x_translation = float(reference_coordinate_frame[0,2])\n",
    "reference_coordinate_frame_y_translation = float(reference_coordinate_frame[1,2])\n",
    "reference_coordinate_frame_x_axis_i_hat = float(reference_coordinate_frame[0,0])\n",
    "reference_coordinate_frame_x_axis_j_hat = float(reference_coordinate_frame[1,0])\n",
    "reference_coordinate_frame_y_axis_i_hat = float(reference_coordinate_frame[0,1])\n",
    "reference_coordinate_frame_y_axis_j_hat = float(reference_coordinate_frame[1,1])\n",
    "\n",
    "# Plot Reference Coordinate Frame x-axis.\n",
    "reference_frame_x_axis = ax.quiver(\n",
    "    reference_coordinate_frame_x_translation, reference_coordinate_frame_y_translation, \n",
    "    reference_coordinate_frame_x_axis_i_hat, reference_coordinate_frame_x_axis_j_hat, \n",
    "    units='xy', scale=1, color='blue')\n",
    "\n",
    "# Plot Reference Coordinate Frame y-axis.\n",
    "reference_frame_y_axis = ax.quiver(\n",
    "    reference_coordinate_frame_x_translation, reference_coordinate_frame_y_translation, \n",
    "    reference_coordinate_frame_y_axis_i_hat, reference_coordinate_frame_y_axis_j_hat, \n",
    "    units='xy', scale=1, color='blue')\n",
    "\n",
    "# Plot vector a\n",
    "world_frame_y_axis = ax.quiver(\n",
    "    world_coordinate_frame_x_translation, world_coordinate_frame_y_translation, \n",
    "    vector_a_i_component, vector_a_j_component, \n",
    "    units='xy', scale=1, color='purple')"
   ]
  }
 ],
 "metadata": {
  "kernelspec": {
   "display_name": "Python 3",
   "language": "python",
   "name": "python3"
  },
  "language_info": {
   "codemirror_mode": {
    "name": "ipython",
    "version": 3
   },
   "file_extension": ".py",
   "mimetype": "text/x-python",
   "name": "python",
   "nbconvert_exporter": "python",
   "pygments_lexer": "ipython3",
   "version": "3.6.4"
  }
 },
 "nbformat": 4,
 "nbformat_minor": 2
}
