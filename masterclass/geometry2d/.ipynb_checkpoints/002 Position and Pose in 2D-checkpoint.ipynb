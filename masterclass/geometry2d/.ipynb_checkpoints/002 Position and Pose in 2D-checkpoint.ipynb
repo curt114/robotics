{
 "cells": [
  {
   "cell_type": "markdown",
   "metadata": {},
   "source": [
    "<h3>Pose</h3>\n",
    "<ul>\n",
    "    <li>Pronounced ksi</li>\n",
    "    <li>It has three parameters (x, y, &theta;) which represent the offset from the origin of one coordinate frame to the origin of the next coordinate frame.</li>\n",
    "    <li>The angle &theta; represents the rotation from one coordinate frame to the next.</li>\n",
    "    $$ \\xi $$\n",
    "    <img src=\"screenshots/pose.png\">\n",
    "    <li>Angles increase positively in the anti-clockwise direction.</li>\n",
    "    <li>Think of it as  a move (x, y) and a twist (&theta;)</li>\n",
    "</ul>\n",
    "<h3>Summary</h3>\n",
    "<ul>\n",
    "    <li>A point is described by a vector with respect to a coordinate frame.</li>\n",
    "    <img src=\"screenshots/notation.png\">\n",
    "    <li>Lower case p to represent a vector.</li>\n",
    "    <li>A denotes the coordinate frame from which the vector starts.</li>\n",
    "    <li>Vector begins from the origin of coordinate frame A.  The trailing B is the destination.</li>\n",
    "    <img src=\"screenshots/pose002.png\">\n",
    "    <li>The pose of a coordinate frame can be described with respect to another coordinate frame.  The motion from coordinate frame A to coordinate frame B.</li>\n",
    "    <li>This motion includes a translation and a rotation.</li>\n",
    "    <img src=\"screenshots/pose003.png\">\n",
    "</ul>\n"
   ]
  }
 ],
 "metadata": {
  "kernelspec": {
   "display_name": "Python 3",
   "language": "python",
   "name": "python3"
  },
  "language_info": {
   "codemirror_mode": {
    "name": "ipython",
    "version": 3
   },
   "file_extension": ".py",
   "mimetype": "text/x-python",
   "name": "python",
   "nbconvert_exporter": "python",
   "pygments_lexer": "ipython3",
   "version": "3.6.4"
  }
 },
 "nbformat": 4,
 "nbformat_minor": 2
}
