{
 "cells": [
  {
   "cell_type": "markdown",
   "metadata": {},
   "source": [
    "<h3>Translations and Rotation</h3>\n",
    "<img src=\"screenshots/translation001.png\" height=300 width=300>\n",
    "<h6>Describe the point P by a vector with respect to frame B and that vector can be described in terms of its components x<sub>B</sub> and y<sub>B</sub></h6>\n",
    "<img src=\"screenshots/translation002.png\" height=300 width=300>\n",
    "<h6>Rotation vector B<sub>p</sub> into a new coordinate frame V.  Coordinate frame has axes which are parallel to coordinate frame A.</h6>\n",
    "<img src=\"screenshots/translation003.png\" height=300 width=500>\n",
    "<h6>Describe the origin of coordinate frame V with respect to coordinate frame A.  This can be accomplished by using a vector.</h6>\n",
    "<img src=\"screenshots/translation004.png\" height=300 width=500>\n",
    "<h6>Can only add vectors in the same (or parallel) reference frames.</h6>\n",
    "<img src=\"screenshots/translation005.png\" height=300 width=500>\n",
    "<h6>Expand the vectors and matrix, and write them in terms of their elements.</h6>\n",
    "<img src=\"screenshots/translation006.png\" height=300 width=500>\n",
    "<h6>The tilde above the p indicates that it is a homogeneous vector.  It has got three elements not two.</h6>\n",
    "<img src=\"screenshots/translation007.png\" height=300 width=500>\n",
    "<h6>The point is described with respect to coordinate frame A by a homogeneous vector which we can obtain from the homogeneous vector of the point with respect to coordinate frame B multiplied by this matrix.  The elements of the matrix include the rotation matrix, which is the function of the orientation &theta;, and the translations between the origin of coordinate frame A and coordinate frame B.</h6>\n",
    "<img src=\"screenshots/translation008.png\" height=300 width=500>\n",
    "<h6>The homogeneous vector has got three elements in it.</h6>\n",
    "<img src=\"screenshots/translation009.png\" height=300 width=500>\n",
    "<h6>Pose is really a 3x3 matrix.</h6>\n",
    "<img src=\"screenshots/translation010.png\" height=300 width=500>\n"
   ]
  },
  {
   "cell_type": "code",
   "execution_count": 17,
   "metadata": {},
   "outputs": [],
   "source": [
    "from sympy.vector import CoordSys3D\n",
    "import sympy as sp\n",
    "import numpy as np\n",
    "from sympy import plot\n",
    "\n",
    "# Create a World Coordinate Frame W\n",
    "W = CoordSys3D(name='W')"
   ]
  },
  {
   "cell_type": "code",
   "execution_count": 18,
   "metadata": {},
   "outputs": [
    {
     "data": {
      "text/latex": [
       "$\\displaystyle \\left[\\begin{matrix}1.0 & 0.0 & 1\\\\0.0 & 1.0 & 2\\\\0 & 0 & 1\\end{matrix}\\right]$"
      ],
      "text/plain": [
       "Matrix([\n",
       "[1.0, 0.0, 1],\n",
       "[0.0, 1.0, 2],\n",
       "[  0,   0, 1]])"
      ]
     },
     "execution_count": 18,
     "metadata": {},
     "output_type": "execute_result"
    }
   ],
   "source": [
    "# Create a pure 2-dimensional homogeneous translation 1 in the x direction, 2 in the y direction.\n",
    "\n",
    "# Initialize variables\n",
    "translation_degrees = 0 # Degrees for rotation matrx.\n",
    "translation_x = 1       # Translation move in the x-direction\n",
    "translation_y = 2       # Translation move in the y-direction\n",
    "\n",
    "# Rotation Matrix\n",
    "translation_T = sp.Matrix([[\n",
    "    round(np.cos(np.deg2rad(translation_degrees)), 3), round(-np.sin(np.deg2rad(translation_degrees)), 3), translation_x],\n",
    "    [round(np.sin(np.deg2rad(translation_degrees)), 3), round(np.cos(np.deg2rad(translation_degrees)), 3), translation_y],\n",
    "    [0, 0, 1]])\n",
    "\n",
    "translation_T"
   ]
  },
  {
   "cell_type": "code",
   "execution_count": 20,
   "metadata": {},
   "outputs": [
    {
     "data": {
      "text/latex": [
       "$\\displaystyle \\left[\\begin{matrix}0.866 & -0.5 & 0\\\\0.5 & 0.866 & 0\\\\0 & 0 & 1\\end{matrix}\\right]$"
      ],
      "text/plain": [
       "Matrix([\n",
       "[0.866,  -0.5, 0],\n",
       "[  0.5, 0.866, 0],\n",
       "[    0,     0, 1]])"
      ]
     },
     "execution_count": 20,
     "metadata": {},
     "output_type": "execute_result"
    }
   ],
   "source": [
    "# Create a pure 2-dimensional homogeneous rotation matrix of 30 degrees.\n",
    "\n",
    "# Initialize variables\n",
    "rotation_degrees = 30 # Degrees for rotation matrx.\n",
    "rotation_x = 0       # Translation move in the x-direction\n",
    "rotation_y = 0       # Translation move in the y-direction\n",
    "\n",
    "# Rotation Matrix\n",
    "rotation_T = sp.Matrix([\n",
    "    [round(np.cos(np.deg2rad(rotation_degrees)), 3), round(-np.sin(np.deg2rad(rotation_degrees)), 3), rotation_x],\n",
    "    [round(np.sin(np.deg2rad(rotation_degrees)), 3), round(np.cos(np.deg2rad(rotation_degrees)), 3), rotation_y],\n",
    "    [0, 0, 1]])\n",
    "\n",
    "rotation_T"
   ]
  },
  {
   "cell_type": "code",
   "execution_count": 21,
   "metadata": {},
   "outputs": [
    {
     "data": {
      "text/latex": [
       "$\\displaystyle \\left[\\begin{matrix}0.866 & -0.5 & 1\\\\0.5 & 0.866 & 2\\\\0 & 0 & 1\\end{matrix}\\right]$"
      ],
      "text/plain": [
       "Matrix([\n",
       "[0.866,  -0.5, 1],\n",
       "[  0.5, 0.866, 2],\n",
       "[    0,     0, 1]])"
      ]
     },
     "execution_count": 21,
     "metadata": {},
     "output_type": "execute_result"
    }
   ],
   "source": [
    "# Multiply both the translation and rotation matrix to obtain the homogeneous pose.\n",
    "pose_T = translation_T * rotation_T\n",
    "pose_T"
   ]
  }
 ],
 "metadata": {
  "kernelspec": {
   "display_name": "Python 3",
   "language": "python",
   "name": "python3"
  },
  "language_info": {
   "codemirror_mode": {
    "name": "ipython",
    "version": 3
   },
   "file_extension": ".py",
   "mimetype": "text/x-python",
   "name": "python",
   "nbconvert_exporter": "python",
   "pygments_lexer": "ipython3",
   "version": "3.6.4"
  }
 },
 "nbformat": 4,
 "nbformat_minor": 2
}
