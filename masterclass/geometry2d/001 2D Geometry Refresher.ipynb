{
 "cells": [
  {
   "cell_type": "markdown",
   "metadata": {},
   "source": [
    "<h3>Points</h3>\n",
    "<ul>\n",
    "    <li>A point is a location in n-dimensional space.</li>  \n",
    "    <li>The point P is an element of, or belongs to, the set of real numbers to the power of n.</li>\n",
    "    <li>Represented by a Cartesian coordinate or an n-tuple (x<sub>1</sub>, x<sub>2</sub>,&middot;&middot;&middot;x<sub>n</sub>)</li>\n",
    "    <li>Denote points as upper case letters.</li>\n",
    "    $$ P\\in\\mathbb{R}^n $$\n",
    "    <li>Define a location.</li>\n",
    "    <li>Cannot add or multiply points.</li>\n",
    "</ul>\n",
    "<img src=\"screenshots/points.png\">\n",
    "<h3>Vector</h3>\n",
    "<ul>\n",
    "    <li>An arrow from the origin of our coordinate frame to the point of interest.</li>\n",
    "    <li>Denote vectors by lower case letters.</li>\n",
    "    <li>A vector has two components.  A horizontal component of length a, and a vertical component of length b.</li>\n",
    "    <li>Vector p is a two elemental vector.  It is a two by one matrix.  Two rows and one column.</li>\n",
    "    <li>A vector is an element of an n-dimensional vector space $$ p\\in\\mathbb{R}^n $$</li>\n",
    "    <li>Represented by an n-element column vector $$ [x_1, x_2 \\cdot\\cdot\\cdot x_n]^T $$</li>\n",
    "    <img src=\"screenshots/vectors.png\">\n",
    "    <li>Can be considered a relative displacement.  It talks about a motion.  How do we get from the origin to the point P? We follow a path which is this vector.</li>\n",
    "    <li>This vector has a starting point.  We refer to this as a bound vector.</li>\n",
    "    <li>They are defined with respect to a particular coordinate frame.</li>\n",
    "    <li>Can express this vector p in terms of unit vectors.</li>\n",
    "    <li>Unit vectors have a length of 1.</li>\n",
    "    <img src=\"screenshots/unit_vectors.png\">\n",
    "    <li>Can express the vector in terms of two components.  One component is the distance multipled by the unit vector x plus another vertical vector which is the distance b multipled by the unit vector y.</li>\n",
    "    <li>Do not define a location.  Specify how to get from one location to another.</li>\n",
    "    <li>Can add and subtract vectors.</li>\n",
    "    <li>Can multiply a vector by a scalar.</li>\n",
    "    <li>The difference between two points is a vector.</li>\n",
    "    <li>A point is defined by a vector displacement from another point. (typically the origin of a coordinate frame)</li>\n",
    "    <li>Both can be represented by n real numbers.</li>\n",
    "</ul>\n",
    "<h3>Right Handed Coordinate Frame</h3>\n",
    "<ul>\n",
    "    <li>Swing from the x-axis through 90 degrees up the the y-axis with your thumb sticking up.</li>\n",
    "    <img src=\"screenshots/right_handed_coordinate_frame.png\">\n",
    "</ul>"
   ]
  }
 ],
 "metadata": {
  "kernelspec": {
   "display_name": "Python 3",
   "language": "python",
   "name": "python3"
  },
  "language_info": {
   "codemirror_mode": {
    "name": "ipython",
    "version": 3
   },
   "file_extension": ".py",
   "mimetype": "text/x-python",
   "name": "python",
   "nbconvert_exporter": "python",
   "pygments_lexer": "ipython3",
   "version": "3.6.4"
  }
 },
 "nbformat": 4,
 "nbformat_minor": 2
}
