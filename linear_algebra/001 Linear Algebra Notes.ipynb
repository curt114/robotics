{
 "cells": [
  {
   "cell_type": "markdown",
   "metadata": {},
   "source": [
    "<h1>Matrices</h1>\n",
    "<p>\n",
    "    A matrix is a collection of number sorted in rows and columns.  The number rows is denoted by m, and columns is represented by n.  Matrix A is an m x n matrix.\n",
    "</p>\n",
    "<p>\n",
    "$$ A = \\begin{bmatrix}\n",
    "a_{11} & a_{12} & a_{13} \\\\\n",
    "a_{21} & a_{22} & a_{23} \\\\\n",
    "a_{31} & a_{32} & a_{33} \n",
    "\\end{bmatrix}\n",
    "B = \\begin{bmatrix}\n",
    "b_{11} & b_{12} & b_{13} \\\\\n",
    "b_{21} & b_{22} & b_{23} \\\\\n",
    "b_{31} & b_{32} & b_{33} \n",
    "\\end{bmatrix}$$\n",
    "</p>\n",
    "<h1>Elements</h1>\n",
    "<p>Element a represents a value inside a matrix. i represents the row number, and j denotes the column number.</p>\n",
    "<p>\n",
    "$$ a_{ij} $$\n",
    "</p>\n",
    "<h1>Transpose</h1>\n",
    "<p>Swap the rows with columns.</p>\n",
    "<p>\n",
    "$$ A = \\begin{bmatrix}\n",
    "a_{11} & a_{12} & a_{13} \\\\\n",
    "a_{21} & a_{22} & a_{23} \\\\\n",
    "a_{31} & a_{32} & a_{33} \n",
    "\\end{bmatrix}\n",
    "A^T = \\begin{bmatrix}\n",
    "a_{11} & a_{21} & a_{31} \\\\\n",
    "a_{12} & a_{22} & a_{32} \\\\\n",
    "a_{13} & a_{23} & a_{33} \n",
    "\\end{bmatrix}$$\n",
    "</p>\n",
    "<h1>n-Tuples</h1>\n",
    "<p>A set of n-numbers is called an n-tuple.  Tuple means ordered list</p>\n",
    "<p>\n",
    "$$ u = (2, 4, -3)\\hspace{1cm} or \\hspace{1cm} \\begin{bmatrix} 2 \\\\ 4 \\\\ 3 \\end{bmatrix} $$\n",
    "</p>\n",
    "<h1>Unit Vectors</h1>"
   ]
  },
  {
   "cell_type": "code",
   "execution_count": null,
   "metadata": {},
   "outputs": [],
   "source": []
  }
 ],
 "metadata": {
  "kernelspec": {
   "display_name": "Python 3",
   "language": "python",
   "name": "python3"
  },
  "language_info": {
   "codemirror_mode": {
    "name": "ipython",
    "version": 3
   },
   "file_extension": ".py",
   "mimetype": "text/x-python",
   "name": "python",
   "nbconvert_exporter": "python",
   "pygments_lexer": "ipython3",
   "version": "3.6.4"
  }
 },
 "nbformat": 4,
 "nbformat_minor": 2
}
