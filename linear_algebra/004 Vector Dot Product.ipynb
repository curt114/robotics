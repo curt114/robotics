{
 "cells": [
  {
   "cell_type": "markdown",
   "metadata": {},
   "source": [
    "<h1>Vector Dot Product</h1>\n",
    "<p>Vector multiplication is referred to as the scalar product.</p>\n",
    "<p>\n",
    "$$ \n",
    "\\vec{a} = 3\\hat{i} + 1\\hat{j} + 2\\hat{k} \\hspace{1cm} \\vec{b} = 2\\hat{i} + 2\\hat{j} + 1\\hat{k}\n",
    "$$\n",
    "</p>\n",
    "<p>\n",
    "$$\n",
    "\\vec{A} \\cdot \\vec{B} = \\lVert{\\vec{A}}\\rVert\\lVert{\\vec{B}}\\rVert cos\\theta\n",
    "$$\n",
    "</p>\n",
    "<p>Angle between two vectors.</p>\n",
    "<p>\n",
    "$$\n",
    "cos\\theta = \\dfrac{\\vec{A} \\cdot \\vec{B}}  {\\lVert{\\vec{A}}\\rVert\\lVert{\\vec{B}}\\rVert}\n",
    "$$\n",
    "</p>\n",
    "<h3>Magntitude</h3>\n",
    "<p>Used to find the length of a vector.  Normalization takes the length and turns it into a length of one.</p>\n",
    "<p>\n",
    "$$\n",
    "u\\cdot u = (a, b) \\cdot (a, b) = a^2 + b^2 = c^2 = \\lVert u \\rVert^2\n",
    "$$\n",
    "</p>\n",
    "<p>\n",
    "$$\n",
    "\\lVert u \\rVert = \\sqrt{a^2 + b^2} = \\sqrt{u\\cdot u}\n",
    "$$\n",
    "</p>\n",
    "<h3>Orthogonal Vectors</h3>\n",
    "<p>90 degrees between vectors.</p>\n",
    "<p>\n",
    "$$\n",
    "\\vec{A} \\cdot \\vec{B} = 0 \n",
    "$$\n",
    "</p>"
   ]
  },
  {
   "cell_type": "code",
   "execution_count": 1,
   "metadata": {},
   "outputs": [],
   "source": [
    "# Imports\n",
    "import sympy as sp\n",
    "import math\n",
    "from sympy.physics.vector import *\n",
    "import matplotlib.pyplot as plt\n",
    "import numpy as np\n",
    "sp.init_printing()"
   ]
  },
  {
   "cell_type": "code",
   "execution_count": 7,
   "metadata": {},
   "outputs": [
    {
     "data": {
      "image/png": "[encoded data removed]",
      "text/latex": [
       "$\\displaystyle 10$"
      ],
      "text/plain": [
       "10"
      ]
     },
     "execution_count": 7,
     "metadata": {},
     "output_type": "execute_result"
    }
   ],
   "source": [
    "W = ReferenceFrame('W')\n",
    "a = 3 * W.x + 1 * W.y + 2 * W.z\n",
    "b = 2 * W.x + 2 * W.y + 1 * W.z\n",
    "a.dot(b)"
   ]
  },
  {
   "cell_type": "code",
   "execution_count": 10,
   "metadata": {},
   "outputs": [
    {
     "data": {
      "image/png": "[encoded data removed]",
      "text/latex": [
       "$\\displaystyle \\sqrt{11}$"
      ],
      "text/plain": [
       "√11"
      ]
     },
     "execution_count": 10,
     "metadata": {},
     "output_type": "execute_result"
    }
   ],
   "source": [
    "u = 1 * W.x -1 * W.y + 3 * W.z\n",
    "u.magnitude()"
   ]
  }
 ],
 "metadata": {
  "kernelspec": {
   "display_name": "Python 3",
   "language": "python",
   "name": "python3"
  },
  "language_info": {
   "codemirror_mode": {
    "name": "ipython",
    "version": 3
   },
   "file_extension": ".py",
   "mimetype": "text/x-python",
   "name": "python",
   "nbconvert_exporter": "python",
   "pygments_lexer": "ipython3",
   "version": "3.6.4"
  }
 },
 "nbformat": 4,
 "nbformat_minor": 2
}
