{
 "cells": [
  {
   "cell_type": "markdown",
   "metadata": {},
   "source": [
    "<h1>Rotation Matrix</h1>\n",
    "<p>Rotate a point (vector) counterclockwise by &ang; &Theta;.</p>\n",
    "<h3>Equation</h3>\n",
    "<p>New Points = Transformation Matrix * Old Points</p>\n",
    "$$ x^{\\prime} = Ax $$\n",
    "<h3>Solve</h3>\n",
    "<p>Rotate vector points (2,1) by 90 degrees.</p>\n",
    "$$ \\begin{bmatrix}\n",
    "x^{\\prime}  \\\\\n",
    "y^{\\prime} \n",
    "\\end{bmatrix} = \\begin{bmatrix}\n",
    "cos(\\theta) & -sin(\\theta) \\\\\n",
    "sin(\\theta) & cos(\\theta)\n",
    "\\end{bmatrix} \\begin{bmatrix}\n",
    "2  \\\\\n",
    "1 \n",
    "\\end{bmatrix} $$"
   ]
  },
  {
   "cell_type": "code",
   "execution_count": 1,
   "metadata": {},
   "outputs": [],
   "source": [
    "# Imports\n",
    "import sympy as sp\n",
    "import math\n",
    "from sympy.physics.vector import *\n",
    "import matplotlib.pyplot as plt\n",
    "import numpy as np\n",
    "sp.init_printing()"
   ]
  },
  {
   "cell_type": "code",
   "execution_count": 2,
   "metadata": {},
   "outputs": [
    {
     "data": {
      "image/png": "[encoded data removed]",
      "text/latex": [
       "$\\displaystyle 2\\mathbf{\\hat{w}_x} + \\mathbf{\\hat{w}_y}$"
      ],
      "text/plain": [
       "2 w_x + w_y"
      ]
     },
     "execution_count": 2,
     "metadata": {},
     "output_type": "execute_result"
    }
   ],
   "source": [
    "# Create World Reference Frame\n",
    "W = ReferenceFrame('W')\n",
    "\n",
    "# Create a vector to rotate in the World Reference Frame\n",
    "vector_one = 2 * W.x + 1 * W.y\n",
    "vector_one"
   ]
  },
  {
   "cell_type": "code",
   "execution_count": 3,
   "metadata": {},
   "outputs": [
    {
     "data": {
      "text/latex": [
       "$\\displaystyle \\left[\\begin{matrix}2\\\\1\\end{matrix}\\right]$"
      ],
      "text/plain": [
       "⎡2⎤\n",
       "⎢ ⎥\n",
       "⎣1⎦"
      ]
     },
     "execution_count": 3,
     "metadata": {},
     "output_type": "execute_result"
    }
   ],
   "source": [
    "# Display vector_one as a column matrix.\n",
    "X = sp.Matrix([2, 1])\n",
    "X"
   ]
  },
  {
   "cell_type": "code",
   "execution_count": 4,
   "metadata": {},
   "outputs": [
    {
     "data": {
      "text/latex": [
       "$\\displaystyle \\left[\\begin{matrix}x \\cos{\\left(\\theta \\right)} - y \\sin{\\left(\\theta \\right)}\\\\x \\sin{\\left(\\theta \\right)} + y \\cos{\\left(\\theta \\right)}\\end{matrix}\\right]$"
      ],
      "text/plain": [
       "⎡x⋅cos(θ) - y⋅sin(θ)⎤\n",
       "⎢                   ⎥\n",
       "⎣x⋅sin(θ) + y⋅cos(θ)⎦"
      ]
     },
     "execution_count": 4,
     "metadata": {},
     "output_type": "execute_result"
    }
   ],
   "source": [
    "# Obtain the new vector points when multiplying the rotation matrix by vector X.\n",
    "x, y, theta = sp.symbols('x y theta')\n",
    "rotation_matrix = sp.Matrix([[sp.cos(theta), -sp.sin(theta)],\n",
    "                             [sp.sin(theta), sp.cos(theta)]])\n",
    "X_matrix = sp.Matrix([x, y])\n",
    "rotation_matrix * X_matrix"
   ]
  },
  {
   "cell_type": "code",
   "execution_count": 7,
   "metadata": {},
   "outputs": [
    {
     "data": {
      "text/latex": [
       "$\\displaystyle \\left[\\begin{matrix}0.866 & -0.5\\\\0.5 & 0.866\\end{matrix}\\right]$"
      ],
      "text/plain": [
       "⎡0.866  -0.5 ⎤\n",
       "⎢            ⎥\n",
       "⎣ 0.5   0.866⎦"
      ]
     },
     "execution_count": 7,
     "metadata": {},
     "output_type": "execute_result"
    }
   ],
   "source": [
    "# Create a rotation matrix to rotate vector_one by the variable degrees\n",
    "degrees = 30\n",
    "\n",
    "# Rotation Matrix\n",
    "A = sp.Matrix([[round(np.cos(np.deg2rad(degrees)), 3), round(-np.sin(np.deg2rad(degrees)), 3)],\n",
    "               [round(np.sin(np.deg2rad(degrees)), 3), round(np.cos(np.deg2rad(degrees)), 3)]])\n",
    "A"
   ]
  },
  {
   "cell_type": "code",
   "execution_count": 5,
   "metadata": {},
   "outputs": [
    {
     "data": {
      "text/latex": [
       "$\\displaystyle \\left[\\begin{matrix}-1.0\\\\2.0\\end{matrix}\\right]$"
      ],
      "text/plain": [
       "⎡-1.0⎤\n",
       "⎢    ⎥\n",
       "⎣2.0 ⎦"
      ]
     },
     "execution_count": 5,
     "metadata": {},
     "output_type": "execute_result"
    }
   ],
   "source": [
    "# Obtain the new (x, y) coordinates after vector one has been rotated\n",
    "X_prime = A * X\n",
    "X_prime"
   ]
  },
  {
   "cell_type": "code",
   "execution_count": 11,
   "metadata": {},
   "outputs": [
    {
     "data": {
      "image/png": "[encoded data removed]",
      "text/latex": [
       "$\\displaystyle \\left( -3, \\  3\\right)$"
      ],
      "text/plain": [
       "(-3, 3)"
      ]
     },
     "execution_count": 11,
     "metadata": {},
     "output_type": "execute_result"
    },
    {
     "data": {
      "image/png": "[encoded data removed]",
      "text/plain": [
       "<Figure size 432x288 with 1 Axes>"
      ]
     },
     "metadata": {
      "needs_background": "light"
     },
     "output_type": "display_data"
    }
   ],
   "source": [
    "origin_x = 0\n",
    "origin_y = 0\n",
    "\n",
    "# Plot the vector in 2D space.\n",
    "v1 = {'X1': origin_x, 'X2': float(X[0]), \n",
    "      'Y1': origin_y, 'Y2': float(X[1])}\n",
    "\n",
    "v1_prime= {'X1': origin_x, 'X2': float(X_prime[0]), \n",
    "           'Y1': origin_y, 'Y2': float(X_prime[1])}\n",
    "\n",
    "fig, ax = plt.subplots()\n",
    "\n",
    "# Plot vector (2, 1)\n",
    "q = ax.quiver(v1['X1'],v1['Y1'], \n",
    "              v1['X2'], v1['Y2'], units='xy', scale=1, color='green')\n",
    "\n",
    "q = ax.quiver(v1_prime['X1'],v1_prime['Y1'], \n",
    "              v1_prime['X2'], v1_prime['Y2'], units='xy', scale=1, color='red')\n",
    "\n",
    "# Adds grid lines to the graph.\n",
    "plt.grid()\n",
    "\n",
    "# Same scaling from data to plot units for x and y\n",
    "ax.set_aspect('equal')\n",
    "\n",
    "# X and Y axis limits \n",
    "plt.xlim(-3,3)\n",
    "plt.ylim(-3,3)"
   ]
  },
  {
   "cell_type": "code",
   "execution_count": null,
   "metadata": {},
   "outputs": [],
   "source": []
  }
 ],
 "metadata": {
  "kernelspec": {
   "display_name": "Python 3",
   "language": "python",
   "name": "python3"
  },
  "language_info": {
   "codemirror_mode": {
    "name": "ipython",
    "version": 3
   },
   "file_extension": ".py",
   "mimetype": "text/x-python",
   "name": "python",
   "nbconvert_exporter": "python",
   "pygments_lexer": "ipython3",
   "version": "3.6.4"
  }
 },
 "nbformat": 4,
 "nbformat_minor": 2
}
