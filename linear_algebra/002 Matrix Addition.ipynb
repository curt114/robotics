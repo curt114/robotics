{
 "cells": [
  {
   "cell_type": "markdown",
   "metadata": {},
   "source": [
    "<h1>Matrix Addition</h1>\n",
    "<p>\n",
    "$$ A = \\begin{bmatrix}\n",
    "a_{11} & a_{12} & a_{13} \\\\\n",
    "a_{21} & a_{22} & a_{23} \\\\\n",
    "a_{31} & a_{32} & a_{33} \n",
    "\\end{bmatrix}\n",
    "B = \\begin{bmatrix}\n",
    "b_{11} & b_{12} & b_{13} \\\\\n",
    "b_{21} & b_{22} & b_{23} \\\\\n",
    "b_{31} & b_{32} & b_{33} \n",
    "\\end{bmatrix}$$\n",
    "</p>\n"
   ]
  },
  {
   "cell_type": "code",
   "execution_count": 10,
   "metadata": {},
   "outputs": [],
   "source": [
    "# Imports\n",
    "import sympy as sp\n",
    "import math\n",
    "from sympy.physics.vector import *\n",
    "import matplotlib.pyplot as plt\n",
    "import numpy as np\n",
    "sp.init_printing()"
   ]
  },
  {
   "cell_type": "code",
   "execution_count": 9,
   "metadata": {},
   "outputs": [
    {
     "data": {
      "text/latex": [
       "$\\displaystyle \\left[\\begin{matrix}a_{11} + b_{11} & a_{12} + b_{12} & a_{13} + b_{13}\\\\a_{21} + b_{21} & a_{22} + b_{22} & a_{23} + b_{23}\\\\a_{31} + b_{31} & a_{32} + b_{32} & a_{33} + b_{33}\\end{matrix}\\right]$"
      ],
      "text/plain": [
       "⎡a₁₁ + b₁₁  a₁₂ + b₁₂  a₁₃ + b₁₃⎤\n",
       "⎢                               ⎥\n",
       "⎢a₂₁ + b₂₁  a₂₂ + b₂₂  a₂₃ + b₂₃⎥\n",
       "⎢                               ⎥\n",
       "⎣a₃₁ + b₃₁  a₃₂ + b₃₂  a₃₃ + b₃₃⎦"
      ]
     },
     "execution_count": 9,
     "metadata": {},
     "output_type": "execute_result"
    }
   ],
   "source": [
    "a11, a12, a13 = sp.symbols('a11 a12 a13')\n",
    "a21, a22, a23 = sp.symbols('a21 a22 a23')\n",
    "a31, a32, a33 = sp.symbols('a31 a32 a33')\n",
    "A = sp.Matrix([[a11, a12, a13],\n",
    "               [a21, a22, a23],\n",
    "               [a31, a32, a33]])\n",
    "\n",
    "b11, b12, b13 = sp.symbols('b11 b12 b13')\n",
    "b21, b22, b23 = sp.symbols('b21 b22 b23')\n",
    "b31, b32, b33 = sp.symbols('b31 b32 b33')\n",
    "B = sp.Matrix([[b11, b12, b13],\n",
    "               [b21, b22, b23],\n",
    "               [b31, b32, b33]])\n",
    "\n",
    "A + B\n"
   ]
  }
 ],
 "metadata": {
  "kernelspec": {
   "display_name": "Python 3",
   "language": "python",
   "name": "python3"
  },
  "language_info": {
   "codemirror_mode": {
    "name": "ipython",
    "version": 3
   },
   "file_extension": ".py",
   "mimetype": "text/x-python",
   "name": "python",
   "nbconvert_exporter": "python",
   "pygments_lexer": "ipython3",
   "version": "3.6.4"
  }
 },
 "nbformat": 4,
 "nbformat_minor": 2
}
