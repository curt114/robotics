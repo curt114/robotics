{
 "cells": [
  {
   "cell_type": "code",
   "execution_count": 12,
   "metadata": {},
   "outputs": [
    {
     "data": {
      "text/latex": [
       "$\\displaystyle \\left[\\begin{matrix}A_{x} + B_{x} \\cos{\\left(\\theta \\right)} - B_{y} \\sin{\\left(\\theta \\right)}\\\\A_{y} + B_{x} \\sin{\\left(\\theta \\right)} + B_{y} \\cos{\\left(\\theta \\right)}\\end{matrix}\\right]$"
      ],
      "text/plain": [
       "Matrix([\n",
       "[A_x + B_x*cos(theta) - B_y*sin(theta)],\n",
       "[A_y + B_x*sin(theta) + B_y*cos(theta)]])"
      ]
     },
     "execution_count": 12,
     "metadata": {},
     "output_type": "execute_result"
    }
   ],
   "source": [
    "import sympy as sp\n",
    "theta, B_x, B_y, A_x, A_y = sp.symbols('theta B_x B_y A_x A_y')\n",
    "R = sp.Matrix([[sp.cos(theta), -sp.sin(theta)],\n",
    "               [sp.sin(theta), sp.cos(theta)]])\n",
    "b = sp.Matrix([B_x, B_y])\n",
    "a = sp.Matrix([A_x, A_y])\n",
    "(R * b) + a"
   ]
  },
  {
   "cell_type": "code",
   "execution_count": null,
   "metadata": {},
   "outputs": [],
   "source": []
  }
 ],
 "metadata": {
  "kernelspec": {
   "display_name": "Python 3",
   "language": "python",
   "name": "python3"
  },
  "language_info": {
   "codemirror_mode": {
    "name": "ipython",
    "version": 3
   },
   "file_extension": ".py",
   "mimetype": "text/x-python",
   "name": "python",
   "nbconvert_exporter": "python",
   "pygments_lexer": "ipython3",
   "version": "3.6.4"
  }
 },
 "nbformat": 4,
 "nbformat_minor": 2
}
